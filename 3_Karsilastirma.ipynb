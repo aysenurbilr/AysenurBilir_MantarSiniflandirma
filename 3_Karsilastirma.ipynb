{
 "cells": [
  {
   "cell_type": "code",
   "execution_count": 5,
   "id": "597f7cc8-768b-468f-815f-cc15500519dc",
   "metadata": {},
   "outputs": [
    {
     "name": "stdout",
     "output_type": "stream",
     "text": [
      "\n",
      "--- Tüm Model Sonuçları ---\n",
      "                 Model  Accuracy     AUC  Silhouette  ARI        Type\n",
      "0               KMeans       NaN     NaN      0.1246  NaN  Gözetimsiz\n",
      "1                  GMM       NaN     NaN      0.1265  NaN  Gözetimsiz\n",
      "2               DBSCAN       NaN     NaN      0.1387  NaN  Gözetimsiz\n",
      "3  Logistic Regression    0.7736  0.8552         NaN  NaN   Gözetimli\n",
      "4        Random Forest    1.0000  1.0000         NaN  NaN   Gözetimli\n",
      "5                  KNN    0.9999  1.0000         NaN  NaN   Gözetimli\n"
     ]
    },
    {
     "name": "stderr",
     "output_type": "stream",
     "text": [
      "C:\\Users\\aysen\\AppData\\Local\\Temp\\ipykernel_19084\\3568015162.py:32: FutureWarning: The behavior of DataFrame concatenation with empty or all-NA entries is deprecated. In a future version, this will no longer exclude empty or all-NA columns when determining the result dtypes. To retain the old behavior, exclude the relevant entries before the concat operation.\n",
      "  df_comparison = pd.concat([df_supervised, df_unsupervised], ignore_index=True)\n"
     ]
    }
   ],
   "source": [
    "### GÖZETİMLİ Ve GÖZETİMSİZ ÖĞRENEME TABLOLOLARINI BİRLEŞİTRME \n",
    "import pandas as pd\n",
    "\n",
    "# CSV dosyalarının yolları\n",
    "supervised_path = \"supervised_results.csv\"\n",
    "unsupervised_path = \"unsupervised_results.csv\"\n",
    "\n",
    "# Dosyaları oku\n",
    "df_supervised = pd.read_csv(supervised_path)\n",
    "df_unsupervised = pd.read_csv(unsupervised_path)\n",
    "\n",
    "# Tür etiketlerini ekle\n",
    "df_supervised['Type'] = 'Gözetimli'\n",
    "df_unsupervised['Type'] = 'Gözetimsiz'\n",
    "\n",
    "# Eksik metrikler için boş sütunlar ekle (uyumlu hale getirmek için)\n",
    "if 'Silhouette' not in df_supervised.columns:\n",
    "    df_supervised['Silhouette'] = None\n",
    "if 'ARI' not in df_supervised.columns:\n",
    "    df_supervised['ARI'] = None\n",
    "\n",
    "if 'Accuracy' not in df_unsupervised.columns:\n",
    "    df_unsupervised['Accuracy'] = None\n",
    "if 'AUC' not in df_unsupervised.columns:\n",
    "    df_unsupervised['AUC'] = None\n",
    "\n",
    "# Sütun sırasını standartlaştır\n",
    "columns_order = ['Model', 'Accuracy', 'AUC', 'Silhouette', 'ARI', 'Type']\n",
    "df_supervised = df_supervised.reindex(columns=columns_order)\n",
    "df_unsupervised = df_unsupervised.reindex(columns=columns_order)\n",
    "\n",
    "# Birleştir\n",
    "df_comparison = pd.concat([df_supervised, df_unsupervised], ignore_index=True)\n",
    "\n",
    "# Sayısal değerleri yuvarla\n",
    "numeric_cols = ['Accuracy', 'AUC', 'Silhouette', 'ARI']\n",
    "df_comparison[numeric_cols] = df_comparison[numeric_cols].astype(float).round(4)\n",
    "\n",
    "# Sırala\n",
    "df_comparison = df_comparison.sort_values(by='Type', ascending=False).reset_index(drop=True)\n",
    "\n",
    "# Göster\n",
    "print(\"\\n--- Tüm Model Sonuçları ---\")\n",
    "print(df_comparison)\n",
    "\n",
    "# CSV olarak kaydet\n",
    "df_comparison.to_csv(\"tum_model_karsilastirmasi.csv\", index=False)\n"
   ]
  }
 ],
 "metadata": {
  "kernelspec": {
   "display_name": "Python 3 (ipykernel)",
   "language": "python",
   "name": "python3"
  },
  "language_info": {
   "codemirror_mode": {
    "name": "ipython",
    "version": 3
   },
   "file_extension": ".py",
   "mimetype": "text/x-python",
   "name": "python",
   "nbconvert_exporter": "python",
   "pygments_lexer": "ipython3",
   "version": "3.12.7"
  }
 },
 "nbformat": 4,
 "nbformat_minor": 5
}
